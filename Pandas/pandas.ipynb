{
 "cells": [
  {
   "cell_type": "code",
   "execution_count": 1,
   "metadata": {},
   "outputs": [],
   "source": [
    "import pandas as pd\n",
    "%matplotlib inline"
   ]
  },
  {
   "cell_type": "markdown",
   "metadata": {},
   "source": [
    "First import the data!"
   ]
  },
  {
   "cell_type": "code",
   "execution_count": 2,
   "metadata": {},
   "outputs": [
    {
     "name": "stdout",
     "output_type": "stream",
     "text": [
      "<class 'pandas.core.frame.DataFrame'>\n",
      "<class 'pandas.core.series.Series'>\n"
     ]
    }
   ],
   "source": [
    "data = pd.read_csv(\"data/coffees.csv\") #tells python to import a csv file\n",
    "print(type(data))\n",
    "print(type(data.contributor))  #each column is a pandas Series object"
   ]
  },
  {
   "cell_type": "code",
   "execution_count": null,
   "metadata": {},
   "outputs": [],
   "source": [
    "data"
   ]
  },
  {
   "cell_type": "code",
   "execution_count": null,
   "metadata": {},
   "outputs": [],
   "source": [
    "data.head()  #shows the first 5 rows by default\n",
    "#Exe: try n=10"
   ]
  },
  {
   "cell_type": "code",
   "execution_count": null,
   "metadata": {},
   "outputs": [],
   "source": [
    "data.shape"
   ]
  },
  {
   "cell_type": "code",
   "execution_count": null,
   "metadata": {},
   "outputs": [],
   "source": [
    "data.columns"
   ]
  },
  {
   "cell_type": "code",
   "execution_count": null,
   "metadata": {},
   "outputs": [],
   "source": [
    "data.dtypes"
   ]
  },
  {
   "cell_type": "code",
   "execution_count": null,
   "metadata": {},
   "outputs": [],
   "source": [
    "data.info()"
   ]
  },
  {
   "cell_type": "code",
   "execution_count": null,
   "metadata": {},
   "outputs": [],
   "source": []
  },
  {
   "cell_type": "code",
   "execution_count": null,
   "metadata": {},
   "outputs": [],
   "source": []
  },
  {
   "cell_type": "code",
   "execution_count": null,
   "metadata": {},
   "outputs": [],
   "source": [
    "# help(data)\n",
    "# .loc -->  Purely label-location based indexer for selection by label.\n",
    "# or\n",
    "# .iloc  -->  Purely integer-location based indexing for selection by position.\n",
    "\n",
    "data.loc[1] "
   ]
  },
  {
   "cell_type": "code",
   "execution_count": null,
   "metadata": {},
   "outputs": [],
   "source": [
    "#Exe: get first 5 rows\n",
    "data.coffees"
   ]
  },
  {
   "cell_type": "code",
   "execution_count": null,
   "metadata": {},
   "outputs": [],
   "source": [
    "data.describe(include='all')\n",
    "# .describe(all) to see full information"
   ]
  },
  {
   "cell_type": "code",
   "execution_count": null,
   "metadata": {},
   "outputs": [],
   "source": [
    "data.coffees.isnull()    #returns the null(NaN) values by boolean indexing\n",
    "#Exe: show the coffee NaN rows"
   ]
  },
  {
   "cell_type": "markdown",
   "metadata": {},
   "source": [
    "What type of Python objects are the columns ?"
   ]
  },
  {
   "cell_type": "markdown",
   "metadata": {},
   "source": [
    "# Cleaning data"
   ]
  },
  {
   "cell_type": "code",
   "execution_count": null,
   "metadata": {},
   "outputs": [],
   "source": [
    "data.head(10)"
   ]
  },
  {
   "cell_type": "code",
   "execution_count": 3,
   "metadata": {},
   "outputs": [],
   "source": [
    "# transform coffees data type to float\n",
    "data.coffees = pd.to_numeric(data.coffees ,errors=\"coerce\")"
   ]
  },
  {
   "cell_type": "code",
   "execution_count": null,
   "metadata": {},
   "outputs": [],
   "source": [
    "data.dtypes"
   ]
  },
  {
   "cell_type": "markdown",
   "metadata": {},
   "source": [
    "Removing null values"
   ]
  },
  {
   "cell_type": "code",
   "execution_count": 4,
   "metadata": {},
   "outputs": [
    {
     "data": {
      "text/html": [
       "<div>\n",
       "<style scoped>\n",
       "    .dataframe tbody tr th:only-of-type {\n",
       "        vertical-align: middle;\n",
       "    }\n",
       "\n",
       "    .dataframe tbody tr th {\n",
       "        vertical-align: top;\n",
       "    }\n",
       "\n",
       "    .dataframe thead th {\n",
       "        text-align: right;\n",
       "    }\n",
       "</style>\n",
       "<table border=\"1\" class=\"dataframe\">\n",
       "  <thead>\n",
       "    <tr style=\"text-align: right;\">\n",
       "      <th></th>\n",
       "      <th>timestamp</th>\n",
       "      <th>coffees</th>\n",
       "      <th>contributor</th>\n",
       "    </tr>\n",
       "  </thead>\n",
       "  <tbody>\n",
       "    <tr>\n",
       "      <th>0</th>\n",
       "      <td>2011-10-03 08:22:00</td>\n",
       "      <td>397.0</td>\n",
       "      <td>Quentin</td>\n",
       "    </tr>\n",
       "    <tr>\n",
       "      <th>1</th>\n",
       "      <td>2011-10-04 11:48:00</td>\n",
       "      <td>410.0</td>\n",
       "      <td>Quentin</td>\n",
       "    </tr>\n",
       "    <tr>\n",
       "      <th>4</th>\n",
       "      <td>2011-10-05 10:47:00</td>\n",
       "      <td>464.0</td>\n",
       "      <td>Quentin</td>\n",
       "    </tr>\n",
       "    <tr>\n",
       "      <th>5</th>\n",
       "      <td>2011-10-05 13:15:00</td>\n",
       "      <td>481.0</td>\n",
       "      <td>Quentin</td>\n",
       "    </tr>\n",
       "    <tr>\n",
       "      <th>6</th>\n",
       "      <td>2011-10-06 07:21:00</td>\n",
       "      <td>503.0</td>\n",
       "      <td>Anthony</td>\n",
       "    </tr>\n",
       "  </tbody>\n",
       "</table>\n",
       "</div>"
      ],
      "text/plain": [
       "             timestamp  coffees contributor\n",
       "0  2011-10-03 08:22:00    397.0     Quentin\n",
       "1  2011-10-04 11:48:00    410.0     Quentin\n",
       "4  2011-10-05 10:47:00    464.0     Quentin\n",
       "5  2011-10-05 13:15:00    481.0     Quentin\n",
       "6  2011-10-06 07:21:00    503.0     Anthony"
      ]
     },
     "execution_count": 4,
     "metadata": {},
     "output_type": "execute_result"
    }
   ],
   "source": [
    "data=data.dropna()   #Pandas operates on copys of objects\n",
    "data.head()"
   ]
  },
  {
   "cell_type": "code",
   "execution_count": 5,
   "metadata": {},
   "outputs": [
    {
     "data": {
      "text/plain": [
       "timestamp      object\n",
       "coffees         int64\n",
       "contributor    object\n",
       "dtype: object"
      ]
     },
     "execution_count": 5,
     "metadata": {},
     "output_type": "execute_result"
    }
   ],
   "source": [
    "#casting coffee type to integers\n",
    "# .astype()  or .apply()\n",
    "data.coffees=data.coffees.astype(int)\n",
    "data.dtypes"
   ]
  },
  {
   "cell_type": "code",
   "execution_count": null,
   "metadata": {},
   "outputs": [],
   "source": [
    "data.head()"
   ]
  },
  {
   "cell_type": "code",
   "execution_count": 6,
   "metadata": {},
   "outputs": [
    {
     "data": {
      "text/plain": [
       "timestamp      datetime64[ns]\n",
       "coffees                 int64\n",
       "contributor            object\n",
       "dtype: object"
      ]
     },
     "execution_count": 6,
     "metadata": {},
     "output_type": "execute_result"
    }
   ],
   "source": [
    "# pd.to_datetime()\n",
    "data.timestamp = pd.to_datetime(data.timestamp)\n",
    "data.dtypes"
   ]
  },
  {
   "cell_type": "code",
   "execution_count": null,
   "metadata": {},
   "outputs": [],
   "source": [
    "# .describe(), passing the include kwarg to see all information\n",
    "data.describe(include=\"all\")"
   ]
  },
  {
   "cell_type": "code",
   "execution_count": null,
   "metadata": {},
   "outputs": [],
   "source": [
    "data.dtypes"
   ]
  },
  {
   "cell_type": "code",
   "execution_count": 8,
   "metadata": {},
   "outputs": [],
   "source": [
    "temp=data[['coffees']]"
   ]
  },
  {
   "cell_type": "code",
   "execution_count": 10,
   "metadata": {},
   "outputs": [],
   "source": [
    "del temp['coffees']"
   ]
  },
  {
   "cell_type": "code",
   "execution_count": 11,
   "metadata": {},
   "outputs": [
    {
     "data": {
      "text/html": [
       "<div>\n",
       "<style scoped>\n",
       "    .dataframe tbody tr th:only-of-type {\n",
       "        vertical-align: middle;\n",
       "    }\n",
       "\n",
       "    .dataframe tbody tr th {\n",
       "        vertical-align: top;\n",
       "    }\n",
       "\n",
       "    .dataframe thead th {\n",
       "        text-align: right;\n",
       "    }\n",
       "</style>\n",
       "<table border=\"1\" class=\"dataframe\">\n",
       "  <thead>\n",
       "    <tr style=\"text-align: right;\">\n",
       "      <th></th>\n",
       "      <th>timestamp</th>\n",
       "      <th>coffees</th>\n",
       "      <th>contributor</th>\n",
       "    </tr>\n",
       "  </thead>\n",
       "  <tbody>\n",
       "    <tr>\n",
       "      <th>0</th>\n",
       "      <td>2011-10-03 08:22:00</td>\n",
       "      <td>397</td>\n",
       "      <td>Quentin</td>\n",
       "    </tr>\n",
       "    <tr>\n",
       "      <th>1</th>\n",
       "      <td>2011-10-04 11:48:00</td>\n",
       "      <td>410</td>\n",
       "      <td>Quentin</td>\n",
       "    </tr>\n",
       "    <tr>\n",
       "      <th>4</th>\n",
       "      <td>2011-10-05 10:47:00</td>\n",
       "      <td>464</td>\n",
       "      <td>Quentin</td>\n",
       "    </tr>\n",
       "    <tr>\n",
       "      <th>5</th>\n",
       "      <td>2011-10-05 13:15:00</td>\n",
       "      <td>481</td>\n",
       "      <td>Quentin</td>\n",
       "    </tr>\n",
       "    <tr>\n",
       "      <th>6</th>\n",
       "      <td>2011-10-06 07:21:00</td>\n",
       "      <td>503</td>\n",
       "      <td>Anthony</td>\n",
       "    </tr>\n",
       "    <tr>\n",
       "      <th>7</th>\n",
       "      <td>2011-10-06 10:04:00</td>\n",
       "      <td>513</td>\n",
       "      <td>Quentin</td>\n",
       "    </tr>\n",
       "    <tr>\n",
       "      <th>8</th>\n",
       "      <td>2011-10-06 12:14:00</td>\n",
       "      <td>539</td>\n",
       "      <td>Mike</td>\n",
       "    </tr>\n",
       "    <tr>\n",
       "      <th>9</th>\n",
       "      <td>2011-10-06 12:49:00</td>\n",
       "      <td>540</td>\n",
       "      <td>Quentin</td>\n",
       "    </tr>\n",
       "    <tr>\n",
       "      <th>10</th>\n",
       "      <td>2011-10-06 14:52:00</td>\n",
       "      <td>563</td>\n",
       "      <td>Ben</td>\n",
       "    </tr>\n",
       "    <tr>\n",
       "      <th>11</th>\n",
       "      <td>2011-10-07 07:34:00</td>\n",
       "      <td>581</td>\n",
       "      <td>Anthony</td>\n",
       "    </tr>\n",
       "    <tr>\n",
       "      <th>12</th>\n",
       "      <td>2011-10-07 08:37:00</td>\n",
       "      <td>587</td>\n",
       "      <td>Quentin</td>\n",
       "    </tr>\n",
       "    <tr>\n",
       "      <th>13</th>\n",
       "      <td>2011-10-07 11:09:00</td>\n",
       "      <td>605</td>\n",
       "      <td>Quentin</td>\n",
       "    </tr>\n",
       "    <tr>\n",
       "      <th>14</th>\n",
       "      <td>2011-10-07 13:14:00</td>\n",
       "      <td>616</td>\n",
       "      <td>Mike</td>\n",
       "    </tr>\n",
       "    <tr>\n",
       "      <th>16</th>\n",
       "      <td>2011-10-07 15:20:00</td>\n",
       "      <td>626</td>\n",
       "      <td>Mike M</td>\n",
       "    </tr>\n",
       "    <tr>\n",
       "      <th>17</th>\n",
       "      <td>2011-10-07 16:50:00</td>\n",
       "      <td>635</td>\n",
       "      <td>Mike M</td>\n",
       "    </tr>\n",
       "    <tr>\n",
       "      <th>18</th>\n",
       "      <td>2011-10-09 16:53:00</td>\n",
       "      <td>650</td>\n",
       "      <td>Colm</td>\n",
       "    </tr>\n",
       "    <tr>\n",
       "      <th>19</th>\n",
       "      <td>2011-10-10 07:29:00</td>\n",
       "      <td>656</td>\n",
       "      <td>Anthony</td>\n",
       "    </tr>\n",
       "    <tr>\n",
       "      <th>20</th>\n",
       "      <td>2011-10-10 10:13:00</td>\n",
       "      <td>673</td>\n",
       "      <td>Quentin</td>\n",
       "    </tr>\n",
       "    <tr>\n",
       "      <th>21</th>\n",
       "      <td>2011-10-10 13:41:00</td>\n",
       "      <td>694</td>\n",
       "      <td>Mike M</td>\n",
       "    </tr>\n",
       "    <tr>\n",
       "      <th>22</th>\n",
       "      <td>2011-10-10 14:02:00</td>\n",
       "      <td>699</td>\n",
       "      <td>Quentin</td>\n",
       "    </tr>\n",
       "    <tr>\n",
       "      <th>23</th>\n",
       "      <td>2011-10-10 15:23:00</td>\n",
       "      <td>713</td>\n",
       "      <td>Quentin</td>\n",
       "    </tr>\n",
       "    <tr>\n",
       "      <th>24</th>\n",
       "      <td>2011-10-11 14:09:00</td>\n",
       "      <td>770</td>\n",
       "      <td>Mike M</td>\n",
       "    </tr>\n",
       "    <tr>\n",
       "      <th>25</th>\n",
       "      <td>2011-10-12 08:11:00</td>\n",
       "      <td>790</td>\n",
       "      <td>Quentin</td>\n",
       "    </tr>\n",
       "    <tr>\n",
       "      <th>26</th>\n",
       "      <td>2011-10-12 09:57:00</td>\n",
       "      <td>799</td>\n",
       "      <td>Mike M</td>\n",
       "    </tr>\n",
       "    <tr>\n",
       "      <th>27</th>\n",
       "      <td>2011-10-12 10:06:00</td>\n",
       "      <td>805</td>\n",
       "      <td>Sergio</td>\n",
       "    </tr>\n",
       "    <tr>\n",
       "      <th>28</th>\n",
       "      <td>2011-10-12 12:01:00</td>\n",
       "      <td>818</td>\n",
       "      <td>Mike M</td>\n",
       "    </tr>\n",
       "    <tr>\n",
       "      <th>29</th>\n",
       "      <td>2011-10-12 12:30:00</td>\n",
       "      <td>819</td>\n",
       "      <td>Quentin</td>\n",
       "    </tr>\n",
       "    <tr>\n",
       "      <th>30</th>\n",
       "      <td>2011-10-12 13:56:00</td>\n",
       "      <td>837</td>\n",
       "      <td>Quentin</td>\n",
       "    </tr>\n",
       "    <tr>\n",
       "      <th>31</th>\n",
       "      <td>2011-10-13 09:10:00</td>\n",
       "      <td>866</td>\n",
       "      <td>Quentin</td>\n",
       "    </tr>\n",
       "    <tr>\n",
       "      <th>32</th>\n",
       "      <td>2011-10-13 10:52:00</td>\n",
       "      <td>880</td>\n",
       "      <td>Quentin</td>\n",
       "    </tr>\n",
       "    <tr>\n",
       "      <th>...</th>\n",
       "      <td>...</td>\n",
       "      <td>...</td>\n",
       "      <td>...</td>\n",
       "    </tr>\n",
       "    <tr>\n",
       "      <th>638</th>\n",
       "      <td>2013-01-16 18:09:00</td>\n",
       "      <td>15726</td>\n",
       "      <td>Sergio</td>\n",
       "    </tr>\n",
       "    <tr>\n",
       "      <th>639</th>\n",
       "      <td>2013-01-17 13:45:00</td>\n",
       "      <td>15764</td>\n",
       "      <td>Sergio</td>\n",
       "    </tr>\n",
       "    <tr>\n",
       "      <th>640</th>\n",
       "      <td>2013-01-21 14:07:00</td>\n",
       "      <td>15886</td>\n",
       "      <td>Quentin</td>\n",
       "    </tr>\n",
       "    <tr>\n",
       "      <th>643</th>\n",
       "      <td>2013-01-28 14:01:00</td>\n",
       "      <td>16195</td>\n",
       "      <td>Quentin</td>\n",
       "    </tr>\n",
       "    <tr>\n",
       "      <th>644</th>\n",
       "      <td>2013-01-29 13:43:00</td>\n",
       "      <td>16237</td>\n",
       "      <td>Quentin</td>\n",
       "    </tr>\n",
       "    <tr>\n",
       "      <th>645</th>\n",
       "      <td>2013-01-29 15:06:00</td>\n",
       "      <td>16257</td>\n",
       "      <td>Quentin</td>\n",
       "    </tr>\n",
       "    <tr>\n",
       "      <th>646</th>\n",
       "      <td>2013-02-04 13:25:00</td>\n",
       "      <td>16513</td>\n",
       "      <td>Sergio</td>\n",
       "    </tr>\n",
       "    <tr>\n",
       "      <th>647</th>\n",
       "      <td>2013-02-06 17:33:00</td>\n",
       "      <td>16659</td>\n",
       "      <td>Quentin</td>\n",
       "    </tr>\n",
       "    <tr>\n",
       "      <th>648</th>\n",
       "      <td>2013-02-07 13:30:00</td>\n",
       "      <td>16714</td>\n",
       "      <td>Sergio</td>\n",
       "    </tr>\n",
       "    <tr>\n",
       "      <th>649</th>\n",
       "      <td>2013-02-12 08:36:00</td>\n",
       "      <td>16891</td>\n",
       "      <td>Sergio</td>\n",
       "    </tr>\n",
       "    <tr>\n",
       "      <th>650</th>\n",
       "      <td>2013-02-12 11:39:00</td>\n",
       "      <td>16909</td>\n",
       "      <td>Quentin</td>\n",
       "    </tr>\n",
       "    <tr>\n",
       "      <th>651</th>\n",
       "      <td>2013-02-13 13:58:00</td>\n",
       "      <td>16977</td>\n",
       "      <td>Quentin</td>\n",
       "    </tr>\n",
       "    <tr>\n",
       "      <th>652</th>\n",
       "      <td>2013-02-16 11:55:00</td>\n",
       "      <td>17104</td>\n",
       "      <td>Quentin</td>\n",
       "    </tr>\n",
       "    <tr>\n",
       "      <th>654</th>\n",
       "      <td>2013-02-18 13:46:00</td>\n",
       "      <td>17165</td>\n",
       "      <td>Quentin</td>\n",
       "    </tr>\n",
       "    <tr>\n",
       "      <th>655</th>\n",
       "      <td>2013-02-21 13:44:00</td>\n",
       "      <td>17345</td>\n",
       "      <td>Quentin</td>\n",
       "    </tr>\n",
       "    <tr>\n",
       "      <th>656</th>\n",
       "      <td>2013-02-21 15:02:00</td>\n",
       "      <td>17354</td>\n",
       "      <td>Quentin</td>\n",
       "    </tr>\n",
       "    <tr>\n",
       "      <th>657</th>\n",
       "      <td>2013-02-25 13:33:00</td>\n",
       "      <td>17468</td>\n",
       "      <td>Quentin</td>\n",
       "    </tr>\n",
       "    <tr>\n",
       "      <th>658</th>\n",
       "      <td>2013-02-25 17:25:00</td>\n",
       "      <td>17489</td>\n",
       "      <td>Quentin</td>\n",
       "    </tr>\n",
       "    <tr>\n",
       "      <th>659</th>\n",
       "      <td>2013-02-27 09:33:00</td>\n",
       "      <td>17564</td>\n",
       "      <td>Quentin</td>\n",
       "    </tr>\n",
       "    <tr>\n",
       "      <th>660</th>\n",
       "      <td>2013-03-04 10:46:00</td>\n",
       "      <td>17789</td>\n",
       "      <td>Sergio</td>\n",
       "    </tr>\n",
       "    <tr>\n",
       "      <th>661</th>\n",
       "      <td>2013-03-04 11:12:00</td>\n",
       "      <td>17793</td>\n",
       "      <td>Quentin</td>\n",
       "    </tr>\n",
       "    <tr>\n",
       "      <th>662</th>\n",
       "      <td>2013-03-04 16:43:00</td>\n",
       "      <td>17824</td>\n",
       "      <td>Quentin</td>\n",
       "    </tr>\n",
       "    <tr>\n",
       "      <th>663</th>\n",
       "      <td>2013-03-05 10:42:00</td>\n",
       "      <td>17852</td>\n",
       "      <td>Quentin</td>\n",
       "    </tr>\n",
       "    <tr>\n",
       "      <th>664</th>\n",
       "      <td>2013-03-05 13:29:00</td>\n",
       "      <td>17868</td>\n",
       "      <td>Quentin</td>\n",
       "    </tr>\n",
       "    <tr>\n",
       "      <th>665</th>\n",
       "      <td>2013-03-08 10:28:00</td>\n",
       "      <td>18062</td>\n",
       "      <td>Quentin</td>\n",
       "    </tr>\n",
       "    <tr>\n",
       "      <th>666</th>\n",
       "      <td>2013-03-12 08:28:00</td>\n",
       "      <td>18235</td>\n",
       "      <td>Sergio</td>\n",
       "    </tr>\n",
       "    <tr>\n",
       "      <th>667</th>\n",
       "      <td>2013-04-05 11:20:00</td>\n",
       "      <td>18942</td>\n",
       "      <td>Sergio</td>\n",
       "    </tr>\n",
       "    <tr>\n",
       "      <th>668</th>\n",
       "      <td>2013-04-27 11:04:00</td>\n",
       "      <td>19698</td>\n",
       "      <td>Sergio</td>\n",
       "    </tr>\n",
       "    <tr>\n",
       "      <th>669</th>\n",
       "      <td>2013-09-12 15:38:00</td>\n",
       "      <td>24450</td>\n",
       "      <td>Quentin</td>\n",
       "    </tr>\n",
       "    <tr>\n",
       "      <th>670</th>\n",
       "      <td>2013-09-13 10:28:00</td>\n",
       "      <td>24463</td>\n",
       "      <td>Quentin</td>\n",
       "    </tr>\n",
       "  </tbody>\n",
       "</table>\n",
       "<p>657 rows × 3 columns</p>\n",
       "</div>"
      ],
      "text/plain": [
       "              timestamp  coffees contributor\n",
       "0   2011-10-03 08:22:00      397     Quentin\n",
       "1   2011-10-04 11:48:00      410     Quentin\n",
       "4   2011-10-05 10:47:00      464     Quentin\n",
       "5   2011-10-05 13:15:00      481     Quentin\n",
       "6   2011-10-06 07:21:00      503     Anthony\n",
       "7   2011-10-06 10:04:00      513     Quentin\n",
       "8   2011-10-06 12:14:00      539        Mike\n",
       "9   2011-10-06 12:49:00      540     Quentin\n",
       "10  2011-10-06 14:52:00      563         Ben\n",
       "11  2011-10-07 07:34:00      581     Anthony\n",
       "12  2011-10-07 08:37:00      587     Quentin\n",
       "13  2011-10-07 11:09:00      605     Quentin\n",
       "14  2011-10-07 13:14:00      616        Mike\n",
       "16  2011-10-07 15:20:00      626      Mike M\n",
       "17  2011-10-07 16:50:00      635      Mike M\n",
       "18  2011-10-09 16:53:00      650        Colm\n",
       "19  2011-10-10 07:29:00      656     Anthony\n",
       "20  2011-10-10 10:13:00      673     Quentin\n",
       "21  2011-10-10 13:41:00      694      Mike M\n",
       "22  2011-10-10 14:02:00      699     Quentin\n",
       "23  2011-10-10 15:23:00      713     Quentin\n",
       "24  2011-10-11 14:09:00      770      Mike M\n",
       "25  2011-10-12 08:11:00      790     Quentin\n",
       "26  2011-10-12 09:57:00      799      Mike M\n",
       "27  2011-10-12 10:06:00      805      Sergio\n",
       "28  2011-10-12 12:01:00      818      Mike M\n",
       "29  2011-10-12 12:30:00      819     Quentin\n",
       "30  2011-10-12 13:56:00      837     Quentin\n",
       "31  2011-10-13 09:10:00      866     Quentin\n",
       "32  2011-10-13 10:52:00      880     Quentin\n",
       "..                  ...      ...         ...\n",
       "638 2013-01-16 18:09:00    15726      Sergio\n",
       "639 2013-01-17 13:45:00    15764      Sergio\n",
       "640 2013-01-21 14:07:00    15886     Quentin\n",
       "643 2013-01-28 14:01:00    16195     Quentin\n",
       "644 2013-01-29 13:43:00    16237     Quentin\n",
       "645 2013-01-29 15:06:00    16257     Quentin\n",
       "646 2013-02-04 13:25:00    16513      Sergio\n",
       "647 2013-02-06 17:33:00    16659     Quentin\n",
       "648 2013-02-07 13:30:00    16714      Sergio\n",
       "649 2013-02-12 08:36:00    16891      Sergio\n",
       "650 2013-02-12 11:39:00    16909     Quentin\n",
       "651 2013-02-13 13:58:00    16977     Quentin\n",
       "652 2013-02-16 11:55:00    17104     Quentin\n",
       "654 2013-02-18 13:46:00    17165     Quentin\n",
       "655 2013-02-21 13:44:00    17345     Quentin\n",
       "656 2013-02-21 15:02:00    17354     Quentin\n",
       "657 2013-02-25 13:33:00    17468     Quentin\n",
       "658 2013-02-25 17:25:00    17489     Quentin\n",
       "659 2013-02-27 09:33:00    17564     Quentin\n",
       "660 2013-03-04 10:46:00    17789      Sergio\n",
       "661 2013-03-04 11:12:00    17793     Quentin\n",
       "662 2013-03-04 16:43:00    17824     Quentin\n",
       "663 2013-03-05 10:42:00    17852     Quentin\n",
       "664 2013-03-05 13:29:00    17868     Quentin\n",
       "665 2013-03-08 10:28:00    18062     Quentin\n",
       "666 2013-03-12 08:28:00    18235      Sergio\n",
       "667 2013-04-05 11:20:00    18942      Sergio\n",
       "668 2013-04-27 11:04:00    19698      Sergio\n",
       "669 2013-09-12 15:38:00    24450     Quentin\n",
       "670 2013-09-13 10:28:00    24463     Quentin\n",
       "\n",
       "[657 rows x 3 columns]"
      ]
     },
     "execution_count": 11,
     "metadata": {},
     "output_type": "execute_result"
    }
   ],
   "source": []
  },
  {
   "cell_type": "markdown",
   "metadata": {},
   "source": [
    "# Visualising some data"
   ]
  },
  {
   "cell_type": "code",
   "execution_count": null,
   "metadata": {},
   "outputs": [],
   "source": [
    "data.plot(x='timestamp', style=\".-\")"
   ]
  },
  {
   "cell_type": "code",
   "execution_count": null,
   "metadata": {},
   "outputs": [],
   "source": [
    "# .tail() with ten rows\n",
    "data.tail(n=10)"
   ]
  },
  {
   "cell_type": "code",
   "execution_count": null,
   "metadata": {},
   "outputs": [],
   "source": [
    "# Use conditional indexing against the timestamp\n",
    "data = data[data.timestamp < \"2013-03-01\"]\n",
    "\n",
    "data.tail()"
   ]
  },
  {
   "cell_type": "code",
   "execution_count": null,
   "metadata": {},
   "outputs": [],
   "source": [
    "data.plot(x='timestamp', style=\".-\")"
   ]
  },
  {
   "cell_type": "markdown",
   "metadata": {},
   "source": [
    "Who are our main contributors ?"
   ]
  },
  {
   "cell_type": "code",
   "execution_count": null,
   "metadata": {},
   "outputs": [],
   "source": [
    "# .value_counts()\n",
    "data.contributor.value_counts()"
   ]
  },
  {
   "cell_type": "code",
   "execution_count": null,
   "metadata": {},
   "outputs": [],
   "source": [
    "data.contributor.value_counts().plot(kind=\"bar\")"
   ]
  },
  {
   "cell_type": "code",
   "execution_count": null,
   "metadata": {},
   "outputs": [],
   "source": [
    "# Create a series of the weekdays for each entry using .dt.weekday\n",
    "weekdays = data.timestamp.dt.weekday\n",
    "\n",
    "# assign() it to our dataframe\n",
    "data = data.assign(weekdays=weekdays)\n",
    "\n",
    "data.head(5)"
   ]
  },
  {
   "cell_type": "code",
   "execution_count": null,
   "metadata": {},
   "outputs": [],
   "source": [
    "weekday_names = [\"Monday\", \"Tuesday\", \"Wednesday\", \"Thursday\", \"Friday\", \"Saturday\", \"Sunday\"]\n",
    "weekday_dict = {key: weekday_names[key] for key in range(7)}"
   ]
  },
  {
   "cell_type": "code",
   "execution_count": null,
   "metadata": {},
   "outputs": [],
   "source": [
    "data.weekdays = data.weekdays.apply(lambda x:weekday_dict[x])\n",
    "data.head()"
   ]
  },
  {
   "cell_type": "code",
   "execution_count": null,
   "metadata": {
    "scrolled": true
   },
   "outputs": [],
   "source": [
    "weekday_counts = data.groupby(\"weekdays\").count()\n",
    "\n",
    "# We can reorder this dataframe by our weekday_names list\n",
    "weekday_counts = weekday_counts.loc[weekday_names]\n",
    "\n",
    "weekday_counts"
   ]
  },
  {
   "cell_type": "code",
   "execution_count": null,
   "metadata": {},
   "outputs": [],
   "source": [
    "weekday_counts.timestamp.plot(kind=\"bar\", title=\"Datapoints added on each weekday\")"
   ]
  }
 ],
 "metadata": {
  "kernelspec": {
   "display_name": "Python 3",
   "language": "python",
   "name": "python3"
  },
  "language_info": {
   "codemirror_mode": {
    "name": "ipython",
    "version": 3
   },
   "file_extension": ".py",
   "mimetype": "text/x-python",
   "name": "python",
   "nbconvert_exporter": "python",
   "pygments_lexer": "ipython3",
   "version": "3.5.2"
  }
 },
 "nbformat": 4,
 "nbformat_minor": 2
}
